{
 "cells": [
  {
   "cell_type": "code",
   "execution_count": 1,
   "id": "64113394",
   "metadata": {},
   "outputs": [],
   "source": [
    "import numpy as np\n",
    "from scipy import stats"
   ]
  },
  {
   "cell_type": "code",
   "execution_count": 2,
   "id": "d2bb3b22",
   "metadata": {},
   "outputs": [],
   "source": [
    "footballers_height = np.array([173, 175, 180, 178, 177, 185, 183, 182])\n",
    "hockey_player_height = np.array([177, 179, 180, 188, 177, 172, 171, 184, 180])\n",
    "weightlifter_height = np.array([172, 173, 169, 177, 166, 180, 178, 177, 172, 166, 170])"
   ]
  },
  {
   "cell_type": "markdown",
   "id": "3ccdce34",
   "metadata": {},
   "source": [
    "Нулевая гипотеза Н0: ср_арифм1 = ср_арифм.2 = ср_арифм.3, т. е. средний рост спортсмена не зависит от вида спорта.\n",
    "Альтернативная гипотеза Н1: ср_арифм1 != ср_арифм.2 != ср_арифм.3, т. е. средний рост спортсмена зависит от вида спорта."
   ]
  },
  {
   "cell_type": "code",
   "execution_count": 3,
   "id": "e4e3581b",
   "metadata": {},
   "outputs": [
    {
     "data": {
      "text/plain": [
       "(ShapiroResult(statistic=0.9775082468986511, pvalue=0.9495404362678528),\n",
       " ShapiroResult(statistic=0.9579196572303772, pvalue=0.7763139009475708),\n",
       " ShapiroResult(statistic=0.9386808276176453, pvalue=0.5051165223121643))"
      ]
     },
     "execution_count": 3,
     "metadata": {},
     "output_type": "execute_result"
    }
   ],
   "source": [
    "stats.shapiro(footballers_height), stats.shapiro(hockey_player_height), stats.shapiro(weightlifter_height)"
   ]
  },
  {
   "cell_type": "markdown",
   "id": "b550a761",
   "metadata": {},
   "source": [
    "Поскольку pvalue во всех случаях >0,05, значения групп следуют нормальному распределению."
   ]
  },
  {
   "cell_type": "code",
   "execution_count": 4,
   "id": "d32afb34",
   "metadata": {},
   "outputs": [
    {
     "data": {
      "text/plain": [
       "BartlettResult(statistic=0.4640521043406442, pvalue=0.7929254656083131)"
      ]
     },
     "execution_count": 4,
     "metadata": {},
     "output_type": "execute_result"
    }
   ],
   "source": [
    "stats.bartlett(footballers_height, hockey_player_height, weightlifter_height)"
   ]
  },
  {
   "cell_type": "markdown",
   "id": "05e9a02b",
   "metadata": {},
   "source": [
    "Поскольку pvalue >0,05, все группы имеют одинаковую дисперсию.  \n",
    "Таким образом, выполняются условия применимости дисперсионного анализа."
   ]
  },
  {
   "cell_type": "code",
   "execution_count": 5,
   "id": "e4544d9d",
   "metadata": {},
   "outputs": [
    {
     "data": {
      "text/plain": [
       "F_onewayResult(statistic=5.500053450812596, pvalue=0.010482206918698694)"
      ]
     },
     "execution_count": 5,
     "metadata": {},
     "output_type": "execute_result"
    }
   ],
   "source": [
    "stats.f_oneway(footballers_height, hockey_player_height, weightlifter_height)"
   ]
  },
  {
   "cell_type": "markdown",
   "id": "b4739a79",
   "metadata": {},
   "source": [
    "Поскольку pvalue <0,05, нулевая гипотеза Н0 отвергается и принимается альтернативная гипотеза Н1, т. е. средний рост спортсменов различен в зависимости от вида спорта."
   ]
  }
 ],
 "metadata": {
  "kernelspec": {
   "display_name": "Python 3 (ipykernel)",
   "language": "python",
   "name": "python3"
  },
  "language_info": {
   "codemirror_mode": {
    "name": "ipython",
    "version": 3
   },
   "file_extension": ".py",
   "mimetype": "text/x-python",
   "name": "python",
   "nbconvert_exporter": "python",
   "pygments_lexer": "ipython3",
   "version": "3.9.13"
  }
 },
 "nbformat": 4,
 "nbformat_minor": 5
}
